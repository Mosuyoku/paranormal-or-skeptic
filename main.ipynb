{
 "cells": [
  {
   "cell_type": "code",
   "execution_count": 25,
   "id": "e25d0d30",
   "metadata": {},
   "outputs": [],
   "source": [
    "import pandas as pd\n",
    "import numpy as np\n",
    "from sklearn.linear_model import LinearRegression\n",
    "from sklearn.linear_model import LogisticRegression\n",
    "from sklearn.linear_model import SGDClassifier\n",
    "import gensim.downloader as gensim\n",
    "from nltk.tokenize import word_tokenize"
   ]
  },
  {
   "cell_type": "code",
   "execution_count": 9,
   "id": "38f915e1",
   "metadata": {},
   "outputs": [],
   "source": [
    "x_train = pd.read_table('train/in.tsv', sep='\\t', header = None, error_bad_lines = False, quoting = 3)\n",
    "y_train = pd.read_table('train/expected.tsv', sep='\\t', header = None, quoting = 3)\n",
    "y_train = y_train[0]\n",
    "x_dev = pd.read_table('dev-0/in.tsv', sep='\\t', header = None, quoting = 3)\n",
    "x_test = pd.read_table('test-A/in.tsv', sep='\\t', header = None, quoting = 3)\n",
    "\n",
    "x_train = x_train[0].str.lower()\n",
    "x_dev = x_dev[0].str.lower()\n",
    "x_test = x_test[0].str.lower()\n",
    "\n",
    "x_train = [word_tokenize(x) for x in x_train]\n",
    "x_dev = [word_tokenize(x) for x in x_dev]\n",
    "x_test = [word_tokenize(x) for x in x_test]\n",
    "\n",
    "word2vec = gensim.load('glove-wiki-gigaword-50')\n",
    "\n",
    "def document_vector(doc):\n",
    "    return np.mean([word2vec[word] for word in doc if word in word2vec] or [np.zeros(50)], axis=0)\n",
    "\n",
    "x_train = [document_vector(doc) for doc in x_train]\n",
    "x_dev = [document_vector(doc) for doc in x_dev]\n",
    "x_test = [document_vector(doc) for doc in x_test]"
   ]
  },
  {
   "cell_type": "code",
   "execution_count": 20,
   "id": "6cdbf2b6",
   "metadata": {},
   "outputs": [],
   "source": [
    "# Linear Regression\n",
    "\n",
    "model = LinearRegression()\n",
    "model.fit(x_train, y_train)\n",
    "\n",
    "y_dev = model.predict(x_dev)\n",
    "y_test = model.predict(x_test)\n",
    "        \n",
    "Y_dev = pd.DataFrame({'label':y_dev})\n",
    "Y_test = pd.DataFrame({'label':y_test})\n",
    "\n",
    "Y_dev['label'] = Y_dev['label'].apply(lambda x: 0 if x < 0 else x)\n",
    "Y_test['label'] = Y_test['label'].apply(lambda x: 0 if x < 0 else x)\n",
    "\n",
    "Y_dev['label'] = Y_dev['label'].apply(lambda x: 1 if x > 1 else x)\n",
    "Y_test['label'] = Y_test['label'].apply(lambda x: 1 if x > 1 else x)\n",
    "\n",
    "Y_dev.to_csv(r'dev-0/linear_out.tsv', sep='\\t', index=False,  header=False)\n",
    "Y_test.to_csv(r'test-A/linear_out.tsv', sep='\\t', index=False,  header=False)"
   ]
  },
  {
   "cell_type": "code",
   "execution_count": 28,
   "id": "4125bba6",
   "metadata": {},
   "outputs": [],
   "source": [
    "# Logistic Regression\n",
    "\n",
    "model = LogisticRegression(solver='lbfgs', max_iter=100000)\n",
    "model.fit(x_train, y_train)\n",
    "\n",
    "y_dev = model.predict(x_dev)\n",
    "y_test = model.predict(x_test)\n",
    "        \n",
    "Y_dev = pd.DataFrame({'label':y_dev})\n",
    "Y_test = pd.DataFrame({'label':y_test})\n",
    "\n",
    "Y_dev.to_csv(r'dev-0/logistic_out.tsv', sep='\\t', index=False,  header=False)\n",
    "Y_test.to_csv(r'test-A/logistic_out.tsv', sep='\\t', index=False,  header=False)"
   ]
  },
  {
   "cell_type": "code",
   "execution_count": 29,
   "id": "c515393b",
   "metadata": {},
   "outputs": [],
   "source": [
    "# SGDCLassifier\n",
    "\n",
    "model = SGDClassifier(max_iter=100000)\n",
    "model.fit(x_train, y_train)\n",
    "\n",
    "y_dev = model.predict(x_dev)\n",
    "y_test = model.predict(x_test)\n",
    "        \n",
    "Y_dev = pd.DataFrame({'label':y_dev})\n",
    "Y_test = pd.DataFrame({'label':y_test})\n",
    "\n",
    "Y_dev.to_csv(r'dev-0/SGD_out.tsv', sep='\\t', index=False,  header=False)\n",
    "Y_test.to_csv(r'test-A/SGD_out.tsv', sep='\\t', index=False,  header=False)"
   ]
  }
 ],
 "metadata": {
  "kernelspec": {
   "display_name": "Python 3",
   "language": "python",
   "name": "python3"
  },
  "language_info": {
   "codemirror_mode": {
    "name": "ipython",
    "version": 3
   },
   "file_extension": ".py",
   "mimetype": "text/x-python",
   "name": "python",
   "nbconvert_exporter": "python",
   "pygments_lexer": "ipython3",
   "version": "3.9.4"
  }
 },
 "nbformat": 4,
 "nbformat_minor": 5
}
